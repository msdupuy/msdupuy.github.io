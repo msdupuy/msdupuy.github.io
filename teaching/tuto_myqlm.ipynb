{
  "cells": [
    {
      "cell_type": "markdown",
      "metadata": {},
      "source": [
        "---\n",
        "title: \"MyQLM tutorial for gate-based simulations\"\n",
        "author: \"Mi-Song Dupuy\"\n",
        "date: \"2025-07-02\"\n",
        "format:\n",
        "  html:\n",
        "    code-fold: true\n",
        "jupyter: python3.12\n",
        "---\n",
        "\n",
        "In this tutorial, we will give the basics to write a gate-based quantum circuit and its execution using the MyQLM package.\n",
        "\n",
        "# Installation \n",
        "\n",
        "MyQLM is available as a package via `pip` on **Python 3.12**.\n",
        "\n",
        "# MyQLM simulation: a quick tutorial\n",
        "\n",
        "To emulate a quantum circuit, you first create a `Program`."
      ]
    },
    {
      "cell_type": "code",
      "execution_count": null,
      "metadata": {},
      "outputs": [],
      "source": [
        "from qat.lang.AQASM import Program\n",
        "my_program = Program()"
      ]
    },
    {
      "cell_type": "markdown",
      "metadata": {},
      "source": [
        "## Quantum register\n",
        "\n",
        "You need to specify the number of qubits in the register associated to `my_program`."
      ]
    },
    {
      "cell_type": "code",
      "execution_count": null,
      "metadata": {},
      "outputs": [],
      "source": [
        "qregister = my_program.qalloc(2) #allocates 2 qubits"
      ]
    },
    {
      "cell_type": "markdown",
      "metadata": {},
      "source": [
        "`qregister` behaves as a list of qubits (here of 2 qubits). By default, the quantum register is initialised at the state $\\vert 0\\rangle$.\n",
        "\n",
        "## Application of gates\n",
        "\n",
        "We can apply quantum gates on qubits of the quantum register."
      ]
    },
    {
      "cell_type": "code",
      "execution_count": null,
      "metadata": {},
      "outputs": [],
      "source": [
        "from qat.lang.AQASM import H, CNOT #import the Hadamard gate and the CNOT gate\n",
        "H(qregister[0])\n",
        "CNOT(qregister) #qregister has 2 qubits so it works"
      ]
    },
    {
      "cell_type": "markdown",
      "metadata": {},
      "source": [
        "## Circuit visualisation \n",
        "\n",
        "The circuit can be extracted from the `Program` using the `to_circ` method and then displayed."
      ]
    },
    {
      "cell_type": "code",
      "execution_count": null,
      "metadata": {},
      "outputs": [],
      "source": [
        "circuit = my_program.to_circ()\n",
        "circuit.display()"
      ]
    },
    {
      "cell_type": "markdown",
      "metadata": {},
      "source": [
        "## Concatenation of quantum circuits\n",
        "\n",
        "The concatenation (or composition) of quantum circuits is done by the operation `+`."
      ]
    },
    {
      "cell_type": "code",
      "execution_count": null,
      "metadata": {},
      "outputs": [],
      "source": [
        "circuit = circuit + circuit # applies the circuit twice \n",
        "circuit.display()"
      ]
    },
    {
      "cell_type": "markdown",
      "metadata": {},
      "source": [
        "## Circuit execution \n",
        "\n",
        "For noiseless simulations, there are two ways to perform the execution.\n",
        "\n",
        "First you need to create a job from a circuit."
      ]
    },
    {
      "cell_type": "code",
      "execution_count": null,
      "metadata": {},
      "outputs": [],
      "source": [
        "my_program_job = circuit.to_job()"
      ]
    },
    {
      "cell_type": "markdown",
      "metadata": {},
      "source": [
        "### Exact calculation\n",
        "\n",
        "In this case, the result of the circuit is computed and the code gives the exact amplitudes of the result of the circuit."
      ]
    },
    {
      "cell_type": "code",
      "execution_count": null,
      "metadata": {},
      "outputs": [],
      "source": [
        "from qat.qpus import PyLinalg \n",
        "linalgqpu = PyLinalg()\n",
        "result = linalgqpu.submit(my_program_job) #compute the result of the linear algebra\n",
        "for sample in result:\n",
        "    print(\"State %s amplitude %s\" % (sample.state, sample.amplitude))"
      ]
    },
    {
      "cell_type": "markdown",
      "metadata": {},
      "source": [
        "### Emulation of a QPU\n",
        "\n",
        "It is also possible to *emulate* the behaviour of a QPU by specifying the number of *shots* or *samples* (*i.e.* the number of times the quantum circuit is measured)."
      ]
    },
    {
      "cell_type": "code",
      "execution_count": null,
      "metadata": {},
      "outputs": [],
      "source": [
        "my_program_job2 = circuit.to_job(nbshots=1000) #10 shots are executed\n",
        "result = linalgqpu.submit(my_program_job2)\n",
        "for sample in result:\n",
        "    print(\"We measured the state {} (its probability is {} and its amplitude {})\".format(sample.state, sample.probability, sample.amplitude)) #the amplitude is not returned"
      ]
    },
    {
      "cell_type": "markdown",
      "metadata": {},
      "source": [
        "# MyQLM features\n",
        "\n",
        "## Partial measurements\n",
        "\n",
        "Partial measurements on a subset of the qubits of the register by using `measure`.\n",
        "By default, `measure` projects the corresponding qubits to eigenstates of the $\\hat{S_z}$ operator, *i.e.* to $|\\mu_1 \\dots \\mu_n\\rangle$ where $\\mu_i = 0$ or 1.\n",
        "\n",
        "In the circuit below, a measurement is performed at the end of the circuit. "
      ]
    },
    {
      "cell_type": "code",
      "execution_count": null,
      "metadata": {},
      "outputs": [],
      "source": [
        "deterministic = Program()\n",
        "deterministic_qubits = deterministic.qalloc(1)\n",
        "H(deterministic_qubits)\n",
        "H(deterministic_qubits) #second application of the Hadamard gate\n",
        "deterministic.measure([0]) #applies a measurement only to the 1st qbit\n",
        "deterministic_circuit = deterministic.to_circ()\n",
        "deterministic_circuit.display()\n",
        "deterministic_job = deterministic_circuit.to_job(nbshots=1000) \n",
        "result = linalgqpu.submit(deterministic_job)\n",
        "for sample in result:\n",
        "    print(\"We measured the state {} (its probability is {} and its amplitude {})\".format(sample.state, sample.probability, sample.amplitude)) #we only get \\vert 0>"
      ]
    },
    {
      "cell_type": "markdown",
      "metadata": {},
      "source": [
        "In the example below, a measurement is performed between both Hadamard gate applications. After the first Hadamard gate, the state is projected to $\\vert 0\\rangle$ or $\\vert 1\\rangle$, thus the output of the whole circuit is a superposition of $\\vert 0\\rangle$ or $\\vert 1\\rangle$."
      ]
    },
    {
      "cell_type": "code",
      "execution_count": null,
      "metadata": {},
      "outputs": [],
      "source": [
        "uniform = Program()\n",
        "uniform_qubits = uniform.qalloc(1)\n",
        "H(uniform_qubits)\n",
        "uniform.measure([0]) #applies a measurement only to the 1st qbit\n",
        "H(uniform_qubits)\n",
        "uniform_circuit = uniform.to_circ()\n",
        "uniform_circuit.display()\n",
        "uniform_job = uniform_circuit.to_job(nbshots=1000) \n",
        "result = linalgqpu.submit(uniform_job)\n",
        "for sample in result:\n",
        "    print(\"We measured the state {} (its probability is {} and its amplitude {})\".format(sample.state, sample.probability, sample.amplitude)) #we only get |0> and | 1> with probability 1/2"
      ]
    },
    {
      "cell_type": "markdown",
      "metadata": {},
      "source": [
        "In the example below, the incorporation of a controlled gate influences the output of the measure of the first qubit."
      ]
    },
    {
      "cell_type": "code",
      "execution_count": null,
      "metadata": {},
      "outputs": [],
      "source": [
        "deferred = Program()\n",
        "deferred_qubits = deferred.qalloc(2)\n",
        "H(deferred_qubits[0])\n",
        "CNOT(deferred_qubits)\n",
        "H(deferred_qubits[0])\n",
        "deferred.measure([0]) #applies a measurement only to the 1st qbit\n",
        "deferred_circuit = deferred.to_circ()\n",
        "deferred_circuit.display()\n",
        "deferred_job = deferred_circuit.to_job(nbshots=1000) \n",
        "result = linalgqpu.submit(deferred_job)\n",
        "for sample in result:\n",
        "    print(\"We measured the state {} (its probability is {} and its amplitude {})\".format(sample.state, sample.probability, sample.amplitude)) #we get approximately 1/4 for each result"
      ]
    },
    {
      "cell_type": "markdown",
      "metadata": {},
      "source": [
        "## List of common gates\n",
        "\n",
        "### Constant gates\n",
        "\n",
        "| Function | Description | Matrix Representation | Usage |\n",
        "|----------|-------------|-----------------------|-------|\n",
        "| X | Pauli-X gate, NOT gate | $\\begin{bmatrix} 0 & 1 \\\\ 1 & 0 \\end{bmatrix}$ | `X(qubit)` |\n",
        "| Y | Pauli-Y gate | $\\begin{bmatrix} 0 & -i \\\\ i & 0 \\end{bmatrix}$ | `Y(qubit)` |\n",
        "| Z | Pauli-Z gate | $\\begin{bmatrix} 1 & 0 \\\\ 0 & -1 \\end{bmatrix}$ | `Z(qubit)` |\n",
        "| H | Hadamard gate | $\\begin{bmatrix} \\frac{1}{\\sqrt{2}} & \\frac{1}{\\sqrt{2}} \\\\ \\frac{1}{\\sqrt{2}} & -\\frac{1}{\\sqrt{2}} \\end{bmatrix}$ | `H(qubit)` |\n",
        "| S | Phase gate (or S gate) | $\\begin{bmatrix} 1 & 0 \\\\ 0 & i \\end{bmatrix}$ | `S(qubit)` |\n",
        "| T | T gate | $\\begin{bmatrix} 1 & 0 \\\\ 0 & e^{i\\pi/4} \\end{bmatrix}$ | `T(qubit)` |\n",
        "| CNOT | CNOT (Controlled NOT) gate | $\\begin{bmatrix} 1 & 0 & 0 & 0 \\\\ 0 & 1 & 0 & 0 \\\\ 0 & 0 & 0 & 1 \\\\ 0 & 0 & 1 & 0 \\end{bmatrix}$ | `CNOT(control_qubit, target_qubit)` |\n",
        "| CCNOT | Toffoli gate (or CCNOT gate). | $\\begin{bmatrix} 1 & 0 & 0 & 0 & 0 & 0 & 0 & 0 \\\\ 0 & 1 & 0 & 0 & 0 & 0 & 0 & 0 \\\\ 0 & 0 & 1 & 0 & 0 & 0 & 0 & 0 \\\\ 0 & 0 & 0 & 1 & 0 & 0 & 0 & 0 \\\\ 0 & 0 & 0 & 0 & 1 & 0 & 0 & 0 \\\\ 0 & 0 & 0 & 0 & 0 & 1 & 0 & 0 \\\\ 0 & 0 & 0 & 0 & 0 & 0 & 0 & 1 \\\\ 0 & 0 & 0 & 0 & 0 & 0 & 1 & 0 \\end{bmatrix}$ | `CCNOT(control_qubit1, control_qubit2, target_qubit)` |\n",
        "| CSIGN | Controlled Sign or C-Z gate | $\\begin{bmatrix} 1 & 0 & 0 & 0 \\\\ 0 & 1 & 0 & 0 \\\\ 0 & 0 & 1 & 0 \\\\ 0 & 0 & 0 & -1 \\end{bmatrix}$ | `CSIGN(control_qubit, target_qubit)` |\n",
        "| SWAP | SWAP gate | $\\begin{bmatrix} 1 & 0 & 0 & 0 \\\\ 0 & 0 & 1 & 0 \\\\ 0 & 1 & 0 & 0 \\\\ 0 & 0 & 0 & 1 \\end{bmatrix}$ | `SWAP(qubit1, qubit2)` |\n",
        "| SQRTSWAP | Square Root of SWAP gate. It creates a superposition of swapped and non-swapped states. | $\\begin{bmatrix} 1 & 0 & 0 & 0 \\\\ 0 & \\frac{1}{2}(1+i) & \\frac{1}{2}(1-i) & 0 \\\\ 0 & \\frac{1}{2}(1-i) & \\frac{1}{2}(1+i) & 0 \\\\ 0 & 0 & 0 & 1 \\end{bmatrix}$ | `SQRTSWAP(qubit1, qubit2)` |\n",
        "| ISWAP | iSWAP gate. It swaps the states of two qubits with a phase factor of i. | $\\begin{bmatrix} 1 & 0 & 0 & 0 \\\\ 0 & 0 & i & 0 \\\\ 0 & i & 0 & 0 \\\\ 0 & 0 & 0 & 1 \\end{bmatrix}$ | `ISWAP(qubit1, qubit2)` |\n",
        "\n",
        "\n",
        "### Parametrised gates \n",
        "\n",
        "| Function | Description | Matrix Representation | Usage |\n",
        "|----------|-------------|-----------------------|-------|\n",
        "| RX(θ) | Rotation around the X-axis by an angle θ. | $\\begin{bmatrix} \\cos(\\theta/2) & -i\\sin(\\theta/2) \\\\ -i\\sin(\\theta/2) & \\cos(\\theta/2) \\end{bmatrix}$ | `RX(theta)(qubit)` |\n",
        "| RY(θ) | Rotation around the Y-axis by an angle θ. | $\\begin{bmatrix} \\cos(\\theta/2) & -\\sin(\\theta/2) \\\\ \\sin(\\theta/2) & \\cos(\\theta/2) \\end{bmatrix}$ | `RY(theta)(qubit)` |\n",
        "| RZ(θ) | Rotation around the Z-axis by an angle θ. | $\\begin{bmatrix} e^{-i\\theta/2} & 0 \\\\ 0 & e^{i\\theta/2} \\end{bmatrix}$ | `RZ(theta)(qubit)` |\n",
        "| PH(φ) | Phase gate that leaves $\\vert 0\\rangle$ unchanged and maps $\\vert 1\\rangle$ to $e^{iφ}\\vert 1\\rangle$. | $\\begin{bmatrix} 1 & 0 \\\\ 0 & e^{iφ} \\end{bmatrix}$ | `PH(phi)(qubit)` |\n",
        "\n",
        "\n",
        "### Create a custom control gate\n",
        "\n",
        "Custom control gates can be defined using the `.ctrl()` method."
      ]
    },
    {
      "cell_type": "code",
      "execution_count": null,
      "metadata": {},
      "outputs": [],
      "source": [
        "from qat.lang.AQASM import Y\n",
        "\n",
        "CY_test = Program()\n",
        "qubits = CY_test.qalloc(2)\n",
        "Y.ctrl()(qubits) #C-Y gate\n",
        "CY_test.to_circ().display()"
      ]
    },
    {
      "cell_type": "markdown",
      "metadata": {},
      "source": [
        "It also works with parametrised gates."
      ]
    },
    {
      "cell_type": "code",
      "execution_count": null,
      "metadata": {},
      "outputs": [],
      "source": [
        "from qat.lang.AQASM import PH\n",
        "\n",
        "CPH_test = Program()\n",
        "qubits = CPH_test.qalloc(2)\n",
        "PH(0.5).ctrl()(qubits) #C-PH gate\n",
        "CPH_test.to_circ().display()"
      ]
    },
    {
      "cell_type": "markdown",
      "metadata": {},
      "source": [
        "### Create a general custom gate (advanced)\n",
        "\n",
        "If the custom gate is composed of common gates, it is possible to use `QRoutine` in order to define a subcircuit that would behave as a gate."
      ]
    },
    {
      "cell_type": "code",
      "execution_count": null,
      "metadata": {},
      "outputs": [],
      "source": [
        "from qat.lang.AQASM import QRoutine\n",
        "\n",
        "def hadamard_generator(n):\n",
        "    routine = QRoutine() #QRoutine creates subcircuits that behave as a Gate object.\n",
        "    wires = routine.new_wires(n)\n",
        "    for i in range(n):\n",
        "        H(wires[i])\n",
        "    return routine\n",
        "\n",
        "Hs = hadamard_generator(5)\n",
        "Hs.display()"
      ]
    },
    {
      "cell_type": "markdown",
      "metadata": {},
      "source": [
        "If the custom gate is defined by a matrix, then `AsbtractGate` can be used. "
      ]
    },
    {
      "cell_type": "code",
      "execution_count": null,
      "metadata": {},
      "outputs": [],
      "source": [
        "import numpy as np\n",
        "from qat.lang.AQASM import AbstractGate \n",
        "\n",
        "def L_generator(n): #circulant matrix\n",
        "    N = 2**n-1\n",
        "    M = np.diag(np.ones(N),k=-1)\n",
        "    M[0,N]=1 \n",
        "    return M\n",
        "L = AbstractGate(\"L\", \n",
        "                  [int], #type of the parameter\n",
        "                  arity=lambda n: n, #arity is the number of qubits\n",
        "                  matrix_generator = L_generator\n",
        "                  )  \n",
        "\n",
        "L_test = Program()\n",
        "qubits = L_test.qalloc(4)\n",
        "L(3)(qubits[0],qubits[2],qubits[3]) #C-Y gate\n",
        "L_test.to_circ().display()"
      ]
    }
  ],
  "metadata": {
    "kernelspec": {
      "display_name": "Python 3",
      "language": "python",
      "name": "python3"
    },
    "language_info": {
      "name": "python",
      "version": "3.12.11"
    }
  },
  "nbformat": 4,
  "nbformat_minor": 4
}
