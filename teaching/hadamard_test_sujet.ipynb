{
  "cells": [
    {
      "cell_type": "markdown",
      "metadata": {},
      "source": [
        "---\n",
        "title: \"Hadamard test\"\n",
        "author: \"Mi-Song Dupuy\"\n",
        "date: \"2025-07-02\"\n",
        "format:\n",
        "  html:\n",
        "    code-fold: true\n",
        "jupyter: python3.12\n",
        "---\n",
        "\n",
        "**Questions**\n",
        "\n",
        "Let $U \\in \\mathbb{C}^{2^n \\times 2^n}$ be a unitary matrix and $\\psi$ be an eigenvector of $U$ with eigenvalue $e^{i \\theta}$. \n",
        "\n",
        "We will use a Hadamard test to estimate the value of the angle $\\theta$.\n",
        "\n",
        "For the real part, we will use this circuit\n",
        "![Real part estimation](re_hadamard.png)\n",
        "and for the imaginary part, this circuit \n",
        "![Imaginary part estimation](im_hadamard.png)\n",
        "\n",
        "# Real part\n",
        "\n",
        "1. Check that the probability $p(q_0 = |0\\rangle) = \\frac{1}{2}(1+\\mathrm{Re}(\\langle \\psi, U \\psi \\rangle))$.\n",
        "1. Implement a controlled phase gate with parameter $\\theta$.\n",
        "1. Implement the Hadamard test.\n",
        "1. For $\\theta={\\pi} - \\frac{1}{2^{d-1}}$, estimate the angle using the Hadamard test. What do you observe with $d$ large?"
      ]
    },
    {
      "cell_type": "code",
      "metadata": {},
      "source": [
        "from qat.lang.AQASM import Program, PH, X, H\n",
        "from qat.qpus import PyLinalg \n",
        "import numpy as np"
      ],
      "execution_count": null,
      "outputs": []
    },
    {
      "cell_type": "markdown",
      "metadata": {},
      "source": [
        "# Imaginary part \n",
        "\n",
        "1. Check that the probability $p(q_0 = |0\\rangle) = \\frac{1}{2}(1+\\mathrm{Im}(\\langle \\psi, U \\psi \\rangle))$.\n",
        "\n",
        "1. Implement the imaginary phase estimation using the Hadamard test. What happens when $\\theta$ is close to $-\\frac{\\pi}{2}$?"
      ]
    },
    {
      "cell_type": "code",
      "metadata": {},
      "source": [
        "from qat.lang.AQASM import S\n"
      ],
      "execution_count": null,
      "outputs": []
    }
  ],
  "metadata": {
    "kernelspec": {
      "name": "python3.12",
      "language": "python",
      "display_name": "python3.12",
      "path": "/Users/mi-song/Library/Jupyter/kernels/python3.12"
    }
  },
  "nbformat": 4,
  "nbformat_minor": 4
}