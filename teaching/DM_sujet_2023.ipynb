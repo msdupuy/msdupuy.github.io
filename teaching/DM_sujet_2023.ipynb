{
 "cells": [
  {
   "attachments": {},
   "cell_type": "markdown",
   "metadata": {},
   "source": [
    "# Devoir maison sur les trains de tenseurs\n",
    "\n",
    "Le devoir-maison comporte 2 exercices indépendants.\n",
    "\n",
    "## Exercice 1 : SVD hiérarchique et influence de l’ordre\n",
    "\n",
    "Soit $C \\in \\mathbb{R}^{n_1 \\times \\cdots \\times n_L}$, une représentation en trains de tenseurs (TT) $(A_1,\\dots,A_L)$ avec $A_k \\in \\mathbb{R}^{n_k \\times r_{k-1} \\times r_k}$, $r_0 = r_L = 1$ et telle que pour tout $1 \\leq i_1 \\leq n_1, \\dots, 1 \\leq i_L \\leq n_L$, on a \n",
    "\\begin{equation}\n",
    "  C_{i_1 \\dots i_L} = A_1[i_1] \\cdots A_L[i_L].\n",
    "\\end{equation}\n",
    "\n",
    "Une représentation exacte en TT peut être obtenue via la SVD hiérarchique présentée en cours. Pour comparer l’influence de l’ordre nous allons nous intéresser à l’exemple de l’état de Bell $B \\in \\bigotimes_{i=1}^L \\R^{2L}$\n",
    "\\begin{align*}\n",
    "  B_{i_1\\dots i_{2L}} &= \\big(\\delta_{1,i_1} \\delta_{2,i_2} + \\delta_{2,i_1} \\delta_{1,i_2}\\big) \\big(\\delta_{1,i_3} \\delta_{2,i_4} + \\delta_{2,i_3} \\delta_{1,i_4}\\big) \\cdots \\big(\\delta_{1,i_{2L-1}} \\delta_{2,i_{2L}} + \\delta_{2,i_{2L-1}} \\delta_{1,i_{2L}}\\big), \\\\\n",
    "  & = \\prod_{k=1}^L (\\delta_{1,i_{2k-1}}\\delta_{2,i_{2k}} + \\delta_{2,i_{2k-1}}\\delta_{1,i_{2k}}),\n",
    "\\end{align*}\n",
    "et à sa version avec les indices permutés $\\widetilde{B} \\in \\bigotimes_{i=1}^L \\R^{2L}$\n",
    "\\begin{align*}\n",
    "  \\widetilde{B}_{i_1\\dots i_{2L}} =  \\prod_{k=1}^L \\big(\\delta_{1,i_{k}} \\delta_{2,i_{k+L}} + \\delta_{2,i_k} \\delta_{1,i_{k+L}}\\big).\n",
    "\\end{align*}\n"
   ]
  },
  {
   "attachments": {},
   "cell_type": "markdown",
   "metadata": {},
   "source": [
    "**Quelques fonctions Python pour les tableaux multidimensionnels**\n",
    "\n",
    "Soit `t` un tableau de taille $n_1 \\times \\dots \\times n_L$.\n",
    "\n",
    "- créer un tableau de zéros : `np.zeros(n)` où `n` est un tableau d’entiers positifs\n",
    "- taille d’un tableau : si `t` est un tableau de taille $n_1 \\times \\dots \\times n_L$ `np.shape(t)` renvoie un tableau `(n_1,...,n_L)`\n",
    "- nombre d’éléments d’un tableau : `np.size(t)` renvoie $\\prod_{i=1}^L n_i$ \n",
    "- reshape : `np.reshape(t,r)` renvoie un tableau de taille $r=(r_1,\\dots,r_d)$ si c’est possible\n",
    "- contraction de tenseurs : la fonction `np.einsum` permet de faire toute sorte d’opérations sur les tenseurs. Quelques exemples pour illustrer :\n",
    "  - `np.einsum('abcd,ecdf',A,B)` renvoie le tenseur $C_{abef} = \\sum_{c,d} A_{abcd} B_{ecdf}$\n",
    "  - l’ordre alphabétique des indices importe : `np.einsum('ebcf,acdb',A,B)` renvoie le tenseur $C_{abef} = \\sum_{c,d} A_{ebcf} B_{acdb}$\n",
    "  - `np.einsum('...d,df',A,B)` renvoie le tenseur $C_{If} = \\sum_{d} A_{Id} B_d$ où I est possiblement un multi-indice.\n"
   ]
  },
  {
   "cell_type": "code",
   "execution_count": 1,
   "metadata": {},
   "outputs": [],
   "source": [
    "import numpy as np\n",
    "import numpy.linalg as LA\n",
    "import matplotlib.pyplot as plt\n",
    "\n",
    "\"\"\"\n",
    "Retourne B comme un vecteur de taille 2^(2L)\n",
    "\"\"\"\n",
    "def bell_vec(L):\n",
    "  if L==1:\n",
    "    b = np.zeros((2,2))\n",
    "    b[0,1], b[1,0] = 1.0, 1.0\n",
    "    return np.reshape(b,4)\n",
    "  else:\n",
    "    b = np.zeros((2,2))\n",
    "    b[0,1], b[1,0] = 1.0, 1.0\n",
    "    return np.kron(np.reshape(b,4),bell_vec(L-1))\n",
    "\n",
    "def bell_state(L):\n",
    "  return np.reshape(bell_vec(L),2*np.ones(2*L,dtype=int)) \n",
    "\n",
    "def reordered_bell(L):\n",
    "  b = bell_state(L)\n",
    "  for i in range(L//2):\n",
    "    b = np.swapaxes(b,2*i+1,2*i+L+1)\n",
    "  return b"
   ]
  },
  {
   "attachments": {},
   "cell_type": "markdown",
   "metadata": {},
   "source": [
    "**Q1)** Montrer que $B$ a une représentation en train de tenseurs de rang 2.  "
   ]
  },
  {
   "attachments": {},
   "cell_type": "markdown",
   "metadata": {},
   "source": [
    "**Q2)** Montrer que l’état de Bell réordonné n’admet pas de représentation exacte de rang strictement inférieure à $2^L$."
   ]
  },
  {
   "attachments": {},
   "cell_type": "markdown",
   "metadata": {},
   "source": [
    "**Q3)** Implémenter une fonction `tt_to_tensor(A)` qui prend en entrée une liste des coeurs $(A_1,\\dots,A_L)$ et qui retourne le tenseur $C$ donné par \n",
    "$$\n",
    "  \\forall \\, 1 \\leq i_1 \\leq n_1, \\dots, 1 \\leq i_L \\leq n_L, \\ C_{i_1 \\dots i_L} = A_1[i_1] \\cdots A_L[i_L].\n",
    "$$\n",
    "On supposera que $A_k \\in \\mathbb{R}^{n_k \\times r_{k-1} \\times r_k}$ (la première dimension du tableau $A_k$ est $n_k$). On pourra utiliser la fonction `numpy.tensordot` ou `numpy.einsum`."
   ]
  },
  {
   "cell_type": "code",
   "execution_count": 2,
   "metadata": {},
   "outputs": [],
   "source": [
    "def tt_to_tensor(A):\n",
    "  return C"
   ]
  },
  {
   "attachments": {},
   "cell_type": "markdown",
   "metadata": {},
   "source": [
    "**Q4)** Implémenter l’algorithme SVD hiérarchique `hsvd(C)` qui renvoie la liste des coeurs $(A_1,\\dots,A_L)$ de dimension $A_k \\in \\mathbb{R}^{n_k \\times r_{k-1} \\times r_k}$ et la liste des rangs TT $r=(r_1,\\dots,r_{L-1})$.\n",
    "Pour cela, on pourra utiliser la fonction `numpy.linalg.svd(M,full_matrices=False)` qui renvoie un triplet `(u,s,vt)` tel que `M = u@np.diag(s)@vt`."
   ]
  },
  {
   "cell_type": "code",
   "execution_count": 3,
   "metadata": {},
   "outputs": [],
   "source": [
    "def hsvd(C):\n",
    "\n",
    "  return A, r"
   ]
  },
  {
   "attachments": {},
   "cell_type": "markdown",
   "metadata": {},
   "source": [
    "**Q5)** Vérifier sur l’état de Bell que `hsvd(B)` renvoie bien une décomposition TT du tenseur $B$."
   ]
  },
  {
   "cell_type": "code",
   "execution_count": 4,
   "metadata": {},
   "outputs": [
    {
     "data": {
      "text/plain": [
       "3.1401849173675503e-16"
      ]
     },
     "execution_count": 4,
     "metadata": {},
     "output_type": "execute_result"
    }
   ],
   "source": [
    "tt, r = hsvd(bell_state(2))\n",
    "C = tt_to_tensor(tt)\n",
    "LA.norm(C-bell_state(2))"
   ]
  },
  {
   "attachments": {},
   "cell_type": "markdown",
   "metadata": {},
   "source": [
    "**Q6)** Vérifier pour $L=8$ que l’état de Bell $B$ a un rang TT égal à 2 et que l’état de Bell réordonné $\\widetilde{B}$ a un rang TT égal à 256."
   ]
  },
  {
   "cell_type": "code",
   "execution_count": 5,
   "metadata": {},
   "outputs": [
    {
     "name": "stdout",
     "output_type": "stream",
     "text": [
      "Rang TT de B = 2\n"
     ]
    }
   ],
   "source": [
    "tt_B, r_B = hsvd(bell_state(8))\n",
    "print(\"Rang TT de B = \"+str(np.max(r_B)))"
   ]
  },
  {
   "cell_type": "code",
   "execution_count": 6,
   "metadata": {},
   "outputs": [
    {
     "name": "stdout",
     "output_type": "stream",
     "text": [
      "Rang TT de B = 256\n"
     ]
    }
   ],
   "source": [
    "tt_tB, r_tB = hsvd(reordered_bell(8))\n",
    "print(\"Rang TT de B = \"+str(np.max(r_tB)))"
   ]
  },
  {
   "attachments": {},
   "cell_type": "markdown",
   "metadata": {},
   "source": [
    "## Exercice 2 : HSVD pour des trains de tenseurs\n",
    "\n",
    "Le but de cet exercice est de comprendre comment adapter l’algorithme HSVD pour des tenseurs donnés sous forme de trains de tenseurs à compresser. \n",
    "Pour rappel, pour un tenseur $C\\in \\mathbb{R}^{n_1 \\times \\cdots \\times n_L}$, la HSVD tronquée est donnée par \n",
    "\\begin{align*}\n",
    "    C_{i_1 \\dots i_L} &= \\ C_{i_1}^{i_2\\dots i_L} & (\\text{reshape of } C \\text{ to } n_1 \\times n_2 \\cdots n_L)\\\\\n",
    "    &= \\big( U_1 \\big)_{i_1}^{\\alpha_1} \\big( \\Sigma_1 V_1 \\big)_{\\alpha_1}^{i_2\\dots i_L} & (\\text{ SVD}) \\\\\n",
    "    &= \\big( U_1 \\big)_{i_1}^{\\alpha_1} \\big( \\Sigma_1 V_1 \\big)_{\\alpha_1 i_2}^{i_3\\dots i_L} & (\\text{reshape of } \\Sigma_1 V_1) \\\\\n",
    "    &= \\big( U_1 \\big)_{i_1}^{\\alpha_1} \\big( U_2 \\big)_{\\alpha_1 i_2}^{\\alpha_2} \\big( \\Sigma_2 V_2 \\big)_{\\alpha_2}^{i_3\\dots i_L} & (\\text{ SVD of } \\Sigma_1 V_1) \\\\\n",
    "    &= \\big( U_1 \\big)_{i_1}^{\\alpha_1} \\big( U_2 \\big)_{\\alpha_1 i_2}^{\\alpha_2} \\big(\\Sigma_2 V_2 \\big)_{\\alpha_2 i_3}^{i_4\\dots i_L} & (\\text{reshape of } \\Sigma_2 V_2),\n",
    "\\end{align*}\n",
    "\n",
    "\n",
    "Ainsi, l’algorithme HSVD appliqué à un tenseurs $C \\in \\mathbb{R}^{n_1 \\times \\cdots \\times n_L}$ requiert des SVD des reshapes du tenseur $C$ (ou de tenseurs de taille similaire). D’un point de vue du stockage mais aussi du coût de calculs (on supposera que le coût de calculs d’une SVD d’une matrice de taille $m \\times n$ est de l’ordre de $m^2 n + n^2 m$), la HSVD n’est pas un algorithme pratique, car son coût est exponentiel en $L$.\n",
    "\n",
    "Soit $C\\in \\mathbb{R}^{n_1 \\times \\cdots \\times n_L}$ un tenseur admettant une décomposition en train de tenseurs $(A_1,\\dots,A_L)$ orthogonale à droite, c’est-à-dire que pour tout $1 \\leq k \\leq L$\n",
    "$$\n",
    "  \\sum\\limits_{i_k=1}^{n_k} A_k[i_k] A_k[i_k]^T = \\mathrm{id}_{r_{k-1}}.\n",
    "$$\n",
    "\n",
    "**Q1)** Soit $B = AQ$ telle que $Q$ est orthogonale. Déduire une SVD de $B$ à partir de celle de $A$.\n",
    "\n",
    "**Q2)** Montrer que \n",
    "$$\n",
    "  C_{i_1}^{i_2\\dots i_L} = \\begin{bmatrix}\n",
    "    A_1[1] \\\\\n",
    "    \\vdots \\\\\n",
    "    A_1[n_1]\n",
    "  \\end{bmatrix} \\begin{bmatrix}\n",
    "    A_2[1] \\cdots A_L[1] \\quad\n",
    "    \\cdots \\quad\n",
    "    A_2[n_2] \\cdots A_L[n_L]\n",
    "  \\end{bmatrix}.\n",
    "$$\n",
    "Déduire la SVD de $(C_{i_1}^{i_2\\dots i_L}) \\in \\mathbb{R}^{n_1 \\times n_2 \\cdots n_L}$ de celle de $\\begin{bmatrix}\n",
    "    A_1[1] \\\\\n",
    "    \\vdots \\\\\n",
    "    A_1[n_1]\n",
    "  \\end{bmatrix} = U_1 \\Sigma_1 V_1^T$.\n",
    "\n",
    "**Q3)** Montrer que l’algorithme suivant est identique à la HSVD du cours pour un tenseur $C$ donné comme un train de tenseurs $(A_1,\\dots,A_L)$, où $A_k$ est orthogonal à droite pour $k=2,\\dots,L$.\n",
    "Montrer que son coût est de l’ordre de $r^3$ où $r = \\max_{1 \\leq k \\leq L-1}(r_k)$.\n",
    "\n",
    "```\n",
    "function hsvd_tt(A) \\\\ A = (A_1,..,A_L) with A_k of size n_k x r_{k-1} x r_k\n",
    "  for k=1,..,L-1\n",
    "    Ak_temp = reshape(A_k, (n_k*r_{k-1},r_k))\n",
    "    u,s,vt = SVD(Ak_temp)\n",
    "    r_k = length(s)\n",
    "    A_k = reshape(u,(n_k,r_{k-1},r_k))\n",
    "    for i_{k+1}=1,...,n_{k+1}\n",
    "      A_{k+1}[i_{k+1}] = s*vt*A_{k+1}[i_{k+1}]\n",
    "    end for\n",
    "  end for\n",
    "  return (A_1,..,A_L)\n",
    "```\n",
    "\n",
    "**Q4)** Implémenter l’algorithme `hsvd_tt(x_tt)` qui renvoie un train de tenseurs `y_tt` et son rang `(r_1,...,r_{L-1})` donné par l’algorithme de la question 3. `x_tt` n'est pas supposé sous forme orthogonale à droite et on pourra utiliser directement la fonction `tt_orthogonalise` pour l'orthogonaliser."
   ]
  },
  {
   "cell_type": "code",
   "execution_count": 30,
   "metadata": {},
   "outputs": [
    {
     "name": "stdout",
     "output_type": "stream",
     "text": [
      "Test tt_orthogonalise: 2.7241194432830106e-15\n",
      "Test tt_add: 3.206630601313102e-16\n"
     ]
    }
   ],
   "source": [
    "\"\"\"\n",
    "  tt_orthogonalise : \n",
    "    input : x_tt = (x_1,...,x_L), x_k of size n_k x r_{k-1}^x x r_k^x\n",
    "    output : identical tensor with TT representation y_tt = (y_1,...,y_L), y_k right-orthogonal for 1 <= k <= L-1\n",
    "\"\"\"\n",
    "def tt_orthogonalise(x_tt):\n",
    "  L = len(x_tt)\n",
    "  y_tt = []\n",
    "  for i in range(L):\n",
    "    y_tt.append(np.copy(x_tt[i]))\n",
    "  for k in range(L-1,0,-1):\n",
    "    nk,rkm,rk = y_tt[k].shape\n",
    "    yk_temp = np.vstack([np.transpose(y_tt[k][i,:,:]) for i in range(nk)])\n",
    "    q,r = LA.qr(yk_temp)\n",
    "    rkm = q.shape[1]\n",
    "    y_tt[k] = np.reshape(np.transpose(q),(rkm,nk,rk))\n",
    "    y_tt[k] = np.swapaxes(y_tt[k],0,1)\n",
    "    nkm,rkm2,rkm = y_tt[k-1].shape\n",
    "    yk_temp = np.reshape(y_tt[k-1],(nkm*rkm2,rkm))@np.transpose(r)\n",
    "    rkm = q.shape[1]\n",
    "    y_tt[k-1] = np.reshape(yk_temp,(nkm,rkm2,rkm))\n",
    "  return y_tt\n",
    "\n",
    "\n",
    "\"\"\"\n",
    "rand_tt\n",
    "  input : \n",
    "    - n = (n_1,...,n_L) size of the tensor\n",
    "    - r = (1,r_1,...,r_{L-1},1) TT rank of the random TT\n",
    "  output :\n",
    "    - x_tt : random TT with input TT rank\n",
    "\"\"\"\n",
    "\n",
    "def rand_tt(n,r):\n",
    "  x_tt = []\n",
    "  L = len(n)\n",
    "  for k in range(L):\n",
    "    xk_temp = np.random.randn(n[k],r[k],r[k+1])\n",
    "    x_tt.append(xk_temp/np.sqrt(n[k]*r[k]))\n",
    "  return x_tt\n",
    "\n",
    "\"\"\" \n",
    "tt_add(x_tt,y_tt): \n",
    "  input \n",
    "    - x_tt = (x_1,...,x_L), x_k of size n_k x r_{k-1}^x x r_k^x\n",
    "    - y_tt = (y_1,...,y_L), y_k of size n_k x r_{k-1}^y x r_k^y\n",
    "  output\n",
    "    - TT representation of the sum of the tensors x_tt+y_tt : z_tt = (z_1,...,z_L), z_k of size n_k x r_{k-1}^z x r_k^z\n",
    "\"\"\"\n",
    "def tt_add(x_tt,y_tt):\n",
    "  z_tt = []\n",
    "  L = len(x_tt)\n",
    "  z1 = np.zeros((x_tt[0].shape[0],1,x_tt[0].shape[2]+y_tt[0].shape[2]))\n",
    "  for i in range(x_tt[0].shape[0]):\n",
    "    z1[i,:,:] = np.hstack([x_tt[0][i,:,:], y_tt[0][i,:,:]])\n",
    "  z_tt.append(z1)\n",
    "  for k in range(1,L-1):\n",
    "    zk = np.zeros((x_tt[k].shape[0],x_tt[k].shape[1]+y_tt[k].shape[1],x_tt[k].shape[2]+y_tt[k].shape[2]))\n",
    "    for i in range(x_tt[k].shape[0]):\n",
    "      zk[i,:,:] = np.block([[x_tt[k][i,:,:], np.zeros((x_tt[k].shape[1],y_tt[k].shape[2]))], [np.zeros((y_tt[k].shape[1],x_tt[k].shape[2])), y_tt[k][i,:,:]]])\n",
    "    z_tt.append(zk)\n",
    "  zL = np.zeros((x_tt[-1].shape[0],x_tt[-1].shape[1]+y_tt[-1].shape[1],1))\n",
    "  for i in range(x_tt[-1].shape[0]):\n",
    "    zL[i,:,:] = np.vstack([x_tt[-1][i,:,:], y_tt[-1][i,:,:]])\n",
    "  z_tt.append(zL)\n",
    "  return z_tt\n",
    "\n",
    "n = (4,4,4,4,4,4,4,4)\n",
    "r = (1,4,4**2,4**3,4**4,4**3,4**2,4,1)\n",
    "x_tt = rand_tt(n,r)\n",
    "y_tt = rand_tt(n,r)\n",
    "z_tt = tt_add(x_tt,y_tt)\n",
    "x = tt_to_tensor(x_tt)\n",
    "tdx = tt_to_tensor(tt_orthogonalise(x_tt))\n",
    "y = tt_to_tensor(y_tt)\n",
    "z = tt_to_tensor(z_tt)\n",
    "print(\"Test tt_orthogonalise: \"+str(LA.norm(tdx-x)))\n",
    "print(\"Test tt_add: \" +str(LA.norm(x+y-z))) #doit retourner 0 à précision machine près\n",
    "\n"
   ]
  },
  {
   "attachments": {},
   "cell_type": "markdown",
   "metadata": {},
   "source": [
    "**Q5)** Vérifier que l’algorithme fonctionne sur l’exemple suivant.\n",
    "\n"
   ]
  },
  {
   "cell_type": "code",
   "execution_count": 31,
   "metadata": {},
   "outputs": [
    {
     "name": "stdout",
     "output_type": "stream",
     "text": [
      "5.113158014382486e-15\n"
     ]
    }
   ],
   "source": [
    "tdz_tt,r_tdz = tt_rounding(z_tt)\n",
    "tdz = tt_to_tensor(tdz_tt)\n",
    "print(LA.norm(z-tdz)/LA.norm(z))"
   ]
  },
  {
   "attachments": {},
   "cell_type": "markdown",
   "metadata": {},
   "source": [
    "**Q6)** Modifier l’algorithme `hsvd_tt(x_tt,eps)` afin d’ajouter une troncature de la SVD à un niveau `eps` à chaque SVD. On pourra utiliser la fonction `truncation` pour tronquer les valeurs singulières en norme 2."
   ]
  },
  {
   "cell_type": "code",
   "execution_count": 36,
   "metadata": {},
   "outputs": [],
   "source": [
    "\n",
    "def truncation(s,eps):\n",
    "  err2 = 0.0\n",
    "  i=len(s)\n",
    "  while err2 < eps**2 and i>=0:\n",
    "    err2 += s[i-1]**2\n",
    "    i-=1\n",
    "  return i+1"
   ]
  },
  {
   "attachments": {},
   "cell_type": "markdown",
   "metadata": {},
   "source": [
    "**Q7)** Tracer la norme du tenseur $z-z_\\varepsilon$ où $z = x+y$ avec $x$ et $y$ des TT générés aléatoirement par `tt_randn` et $z_\\varepsilon$ le tenseur donné par `z_eps = tt_rounding(tt_add(x_tt,y_tt),eps)` pour `eps in [1e-1,3e-2,1e-2,3e-3,1e-3,3e-3,1e-4]`. Commenter la courbe obtenue.\n"
   ]
  },
  {
   "cell_type": "code",
   "execution_count": 37,
   "metadata": {},
   "outputs": [
    {
     "data": {
      "text/plain": [
       "[<matplotlib.lines.Line2D at 0x7f6a5b274e80>]"
      ]
     },
     "execution_count": 37,
     "metadata": {},
     "output_type": "execute_result"
    },
    {
     "data": {
      "image/png": "[encoded data removed]",
      "text/plain": [
       "<Figure size 640x480 with 1 Axes>"
      ]
     },
     "metadata": {},
     "output_type": "display_data"
    }
   ],
   "source": [
    "eps_list = [1e-1,3e-2,1e-2,3e-3,1e-3,3e-3,1e-4]\n",
    "trunc_err = []\n",
    "for eps in eps_list:\n",
    "  ztt_eps,r = tt_rounding(z_tt,eps)\n",
    "  z_eps = tt_to_tensor(ztt_eps)\n",
    "  trunc_err.append(LA.norm(z-z_eps))\n",
    "\n",
    "plt.figure()\n",
    "plt.loglog(eps_list,trunc_err)"
   ]
  }
 ],
 "metadata": {
  "kernelspec": {
   "display_name": "Python 3",
   "language": "python",
   "name": "python3"
  },
  "language_info": {
   "codemirror_mode": {
    "name": "ipython",
    "version": 3
   },
   "file_extension": ".py",
   "mimetype": "text/x-python",
   "name": "python",
   "nbconvert_exporter": "python",
   "pygments_lexer": "ipython3",
   "version": "3.10.6"
  },
  "orig_nbformat": 4
 },
 "nbformat": 4,
 "nbformat_minor": 2
}
