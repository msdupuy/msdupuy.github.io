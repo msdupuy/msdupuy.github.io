{
 "cells": [
  {
   "cell_type": "markdown",
   "id": "65211236",
   "metadata": {},
   "source": [
    "# Population model"
   ]
  },
  {
   "cell_type": "code",
   "execution_count": null,
   "id": "ac454fdf",
   "metadata": {},
   "outputs": [],
   "source": [
    "import numpy as np\n",
    "import matplotlib.pyplot as plt"
   ]
  },
  {
   "cell_type": "code",
   "execution_count": null,
   "id": "c7b018b0",
   "metadata": {},
   "outputs": [],
   "source": [
    "def upwind(J,T,n,u0,d,sigma):\n"
   ]
  },
  {
   "cell_type": "code",
   "execution_count": null,
   "id": "389e3101",
   "metadata": {},
   "outputs": [],
   "source": [
    "def d1(n,sigma):\n",
    "    return sigma*n"
   ]
  },
  {
   "cell_type": "code",
   "execution_count": null,
   "id": "d69c668f",
   "metadata": {},
   "outputs": [],
   "source": [
    "#exact solution to the model with d(n) = sigma*n\n",
    "def n_sol(x,t,sigma,n0):"
   ]
  },
  {
   "cell_type": "code",
   "execution_count": null,
   "id": "29e2101e",
   "metadata": {},
   "outputs": [],
   "source": [
    "def n0(a):"
   ]
  },
  {
   "cell_type": "code",
   "execution_count": null,
   "id": "c6302dfe",
   "metadata": {},
   "outputs": [],
   "source": [
    "nu = 1\n",
    "T = 0.7\n",
    "J = 100\n"
   ]
  }
 ],
 "metadata": {
  "kernelspec": {
   "display_name": "Python 3.10.6 64-bit",
   "language": "python",
   "name": "python3"
  },
  "language_info": {
   "codemirror_mode": {
    "name": "ipython",
    "version": 3
   },
   "file_extension": ".py",
   "mimetype": "text/x-python",
   "name": "python",
   "nbconvert_exporter": "python",
   "pygments_lexer": "ipython3",
   "version": "3.11.5"
  },
  "vscode": {
   "interpreter": {
    "hash": "b0fa6594d8f4cbf19f97940f81e996739fb7646882a419484c72d19e05852a7e"
   }
  }
 },
 "nbformat": 4,
 "nbformat_minor": 5
}
