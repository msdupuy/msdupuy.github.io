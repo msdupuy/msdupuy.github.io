{
 "cells": [
  {
   "cell_type": "code",
   "execution_count": null,
   "id": "fe43c5a2",
   "metadata": {},
   "outputs": [],
   "source": [
    "import numpy as np\n",
    "import matplotlib.pyplot as plt\n",
    "import scipy as sp\n",
    "from matplotlib.lines import Line2D"
   ]
  },
  {
   "cell_type": "markdown",
   "id": "40e856f8",
   "metadata": {},
   "source": [
    "# Characteristics\n",
    "\n",
    "Plot of the solution $x' = a(x)$ for various $a$."
   ]
  },
  {
   "cell_type": "code",
   "execution_count": null,
   "id": "dda822ee",
   "metadata": {},
   "outputs": [],
   "source": [
    "def id(t,x):\n",
    "    return x\n",
    "\n",
    "def minus_id(t,x):\n",
    "    return -x\n",
    "\n",
    "def sint(t,x):\n",
    "    return np.sin(2*np.pi*x)\n",
    "\n",
    "def sqrt(t,x):\n",
    "    return np.sqrt(np.abs(x))\n",
    "\n",
    "def minus_sqrt(t,x):\n",
    "    return -np.sqrt(np.abs(x))\n",
    "\n",
    "def sign(t,x):\n",
    "    return np.sign(x)\n",
    "\n",
    "def minus_sign(t,x):\n",
    "    return -np.sign(x)"
   ]
  },
  {
   "cell_type": "code",
   "execution_count": null,
   "id": "74a85d7e",
   "metadata": {},
   "outputs": [],
   "source": [
    "\"\"\"\n",
    "a : input function\n",
    "n : number of characteristics\n",
    "\"\"\"\n",
    "def characteristics(a,n):\n"
   ]
  },
  {
   "cell_type": "markdown",
   "id": "538cae5e",
   "metadata": {},
   "source": [
    "## $a(x) = x$"
   ]
  },
  {
   "cell_type": "code",
   "execution_count": null,
   "id": "48e3abc3",
   "metadata": {},
   "outputs": [],
   "source": [
    "characteristics(id,10)"
   ]
  },
  {
   "cell_type": "markdown",
   "id": "a116aebb",
   "metadata": {},
   "source": [
    "## $a(x)=-x$"
   ]
  },
  {
   "cell_type": "code",
   "execution_count": null,
   "id": "e6579a5b",
   "metadata": {},
   "outputs": [],
   "source": [
    "characteristics(minus_id,10)"
   ]
  },
  {
   "cell_type": "markdown",
   "id": "475c6f1c",
   "metadata": {},
   "source": [
    "## $a(x)=\\sqrt{|x|}$"
   ]
  },
  {
   "cell_type": "code",
   "execution_count": null,
   "id": "d0fc8c94",
   "metadata": {},
   "outputs": [],
   "source": [
    "characteristics(sqrt,10)"
   ]
  },
  {
   "cell_type": "markdown",
   "id": "ba2c788f",
   "metadata": {},
   "source": [
    "## $a(x)=-\\sqrt{|x|}$"
   ]
  },
  {
   "cell_type": "code",
   "execution_count": null,
   "id": "64ef9fd5",
   "metadata": {},
   "outputs": [],
   "source": [
    "characteristics(minus_id,10)"
   ]
  },
  {
   "cell_type": "markdown",
   "id": "ff0935c1",
   "metadata": {},
   "source": [
    "## $a(x) = sign(x)$"
   ]
  },
  {
   "cell_type": "code",
   "execution_count": null,
   "id": "4c28ee88",
   "metadata": {},
   "outputs": [],
   "source": [
    "characteristics(sign,10)"
   ]
  },
  {
   "cell_type": "markdown",
   "id": "9c9a92e3",
   "metadata": {},
   "source": [
    "# Numerical schemes"
   ]
  },
  {
   "cell_type": "code",
   "execution_count": null,
   "id": "5d2e7a8b",
   "metadata": {},
   "outputs": [],
   "source": [
    "def u01(x):\n",
    "    y = np.mod(x,2)\n",
    "    if y<0.2:\n",
    "        return 1.0\n",
    "    elif y<1.8:\n",
    "        return 0.0\n",
    "    else: \n",
    "        return 1.0\n",
    "\n",
    "plt.plot(np.linspace(-2,2,200),[u01(x) for x in np.linspace(-2,2,200)])    "
   ]
  },
  {
   "cell_type": "markdown",
   "id": "e33a7a2e",
   "metadata": {},
   "source": [
    "## Case $a(x) = x$\n",
    "\n",
    "### Non-conservative scheme"
   ]
  },
  {
   "cell_type": "code",
   "execution_count": null,
   "id": "344e30c8",
   "metadata": {},
   "outputs": [],
   "source": [
    "\"\"\"\n",
    "Assume that u0 is periodic on [-1,1]\n",
    "J = number of space steps\n",
    "T = time period\n",
    "n = number of time steps\n",
    "a = a(t,x) transport coefficient\n",
    "\"\"\"\n",
    "\n",
    "def scheme_nonconservative(J,T,n,u0,a):\n"
   ]
  },
  {
   "cell_type": "code",
   "execution_count": null,
   "id": "9190b192",
   "metadata": {},
   "outputs": [],
   "source": [
    "\"\"\"\n",
    "Exact solution of the nonconservative equation at time t where a(t,x) = x\n",
    "J : number of space steps\n",
    "\"\"\"\n",
    "\n",
    "def u_nc(t,J,u0):\n",
    "    dx = 2/J\n",
    "    out = np.zeros(J)\n",
    "    for i in range(J):\n",
    "        out[i] = u0(np.exp(-t)*(i*dx-1))\n",
    "    return out"
   ]
  },
  {
   "cell_type": "code",
   "execution_count": null,
   "id": "b938ab83",
   "metadata": {},
   "outputs": [],
   "source": [
    "T = 1.5\n",
    "J = 200\n",
    "n = int(T*J/2)\n"
   ]
  },
  {
   "cell_type": "markdown",
   "id": "5244c781",
   "metadata": {},
   "source": [
    "## Conservative scheme"
   ]
  },
  {
   "cell_type": "code",
   "execution_count": null,
   "id": "37776e6e",
   "metadata": {},
   "outputs": [],
   "source": [
    "\"\"\"\n",
    "Conservative scheme\n",
    "J = number of space steps\n",
    "T = time period\n",
    "n = number of time steps\n",
    "a = a(t,x) transport coefficient\n",
    "\"\"\"\n",
    "\n",
    "def conservative_scheme(J,T,n,u0,a):\n",
    "\n",
    "\n",
    "\"\"\"\n",
    "Exact solution of the conservative equation at time t where a(t,x) = x\n",
    "J : number of space steps\n",
    "\"\"\"\n",
    "\n",
    "def u_c(t,J,u0):\n",
    "    dx = 2/J\n",
    "    out = np.zeros(J)\n",
    "    for i in range(J):\n",
    "        out[i] = np.exp(-t)*u0(np.exp(-t)*(i*dx-1))\n",
    "    return out"
   ]
  },
  {
   "cell_type": "code",
   "execution_count": null,
   "id": "50832811",
   "metadata": {},
   "outputs": [],
   "source": [
    "T = 1\n",
    "J = 200\n",
    "n = int(T*J/2)\n"
   ]
  },
  {
   "cell_type": "markdown",
   "id": "90acd039",
   "metadata": {},
   "source": [
    "## Case $a(x)=-x$\n",
    "\n",
    "### Nonconservative scheme"
   ]
  },
  {
   "cell_type": "code",
   "execution_count": null,
   "id": "0b8133d6",
   "metadata": {},
   "outputs": [],
   "source": [
    "def u_nc2(t,J,u0):\n",
    "    dx = 2/J\n",
    "    out = np.zeros(J)\n",
    "    for i in range(J):\n",
    "        out[i] = u0(np.exp(t)*(i*dx-1))\n",
    "    return out"
   ]
  },
  {
   "cell_type": "code",
   "execution_count": null,
   "id": "1b173fc0",
   "metadata": {},
   "outputs": [],
   "source": []
  },
  {
   "cell_type": "markdown",
   "id": "5623b3c2",
   "metadata": {},
   "source": [
    "### Conservative scheme"
   ]
  },
  {
   "cell_type": "code",
   "execution_count": null,
   "id": "fa7166ac",
   "metadata": {},
   "outputs": [],
   "source": [
    "def u_c2(t,J,u0):\n",
    "    dx = 2/J\n",
    "    out = np.zeros(J)\n",
    "    for i in range(J):\n",
    "        out[i] = np.exp(t)*u0(np.exp(t)*(i*dx-1))\n",
    "    return out"
   ]
  },
  {
   "cell_type": "code",
   "execution_count": null,
   "id": "3d42b8e0",
   "metadata": {},
   "outputs": [],
   "source": [
    "T = 1.5\n",
    "J = 200\n",
    "n = int(T*J/2)\n"
   ]
  },
  {
   "cell_type": "markdown",
   "id": "33b741ef",
   "metadata": {},
   "source": [
    "## Order of convergence\n",
    "\n",
    "### Nonconservative case"
   ]
  },
  {
   "cell_type": "code",
   "execution_count": null,
   "id": "ae009033",
   "metadata": {},
   "outputs": [],
   "source": [
    "def u03(x):\n",
    "    y = np.mod(x,2)\n",
    "    if y<0.5:\n",
    "        return (0.5**2-y**2)**2\n",
    "    elif y>1.5:\n",
    "        return (0.5**2-(2-y)**2)**2\n",
    "    else:\n",
    "        return 0.0\n",
    "    \n",
    "plt.plot(np.linspace(-2,2,200),[u03(x) for x in np.linspace(-2,2,200)])    "
   ]
  },
  {
   "cell_type": "code",
   "execution_count": null,
   "id": "e442b989",
   "metadata": {},
   "outputs": [],
   "source": [
    "T = 0.5\n",
    "J = 50\n",
    "n = int(T*J/2)\n"
   ]
  },
  {
   "cell_type": "code",
   "execution_count": null,
   "id": "79d5d1d8",
   "metadata": {},
   "outputs": [],
   "source": [
    "J_list = range(50,501,50)\n",
    "T=0.5\n"
   ]
  },
  {
   "cell_type": "code",
   "execution_count": null,
   "id": "5d37bfcf",
   "metadata": {},
   "outputs": [],
   "source": []
  },
  {
   "cell_type": "markdown",
   "id": "fa73066d",
   "metadata": {},
   "source": [
    "### Conservative case"
   ]
  },
  {
   "cell_type": "code",
   "execution_count": null,
   "id": "4593f014",
   "metadata": {},
   "outputs": [],
   "source": [
    "T = 0.5\n",
    "J = 500\n"
   ]
  },
  {
   "cell_type": "code",
   "execution_count": null,
   "id": "44b2465c",
   "metadata": {},
   "outputs": [],
   "source": [
    "J_list = range(50,501,50)\n",
    "T=0.5\n"
   ]
  },
  {
   "cell_type": "code",
   "execution_count": null,
   "id": "56247351",
   "metadata": {},
   "outputs": [],
   "source": []
  }
 ],
 "metadata": {
  "kernelspec": {
   "display_name": "Python 3.10.6 64-bit",
   "language": "python",
   "name": "python3"
  },
  "language_info": {
   "codemirror_mode": {
    "name": "ipython",
    "version": 3
   },
   "file_extension": ".py",
   "mimetype": "text/x-python",
   "name": "python",
   "nbconvert_exporter": "python",
   "pygments_lexer": "ipython3",
   "version": "3.11.5"
  },
  "vscode": {
   "interpreter": {
    "hash": "b0fa6594d8f4cbf19f97940f81e996739fb7646882a419484c72d19e05852a7e"
   }
  }
 },
 "nbformat": 4,
 "nbformat_minor": 5
}
